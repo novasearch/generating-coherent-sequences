{
 "cells": [
  {
   "cell_type": "code",
   "execution_count": 1,
   "metadata": {},
   "outputs": [],
   "source": [
    "import json\n",
    "\n",
    "CAPTIONS = \".json\"\n",
    "PROMPT_FOLDER = \"\"\n",
    "\n",
    "with open(CAPTIONS, 'r') as f:\n",
    "    all_captions = json.load(f)\n",
    "\n",
    "for prompt_type in [\"short_description\", \"artificial_longer\", \"context\"]:\n",
    "    prompts = []\n",
    "\n",
    "    for image_id, captions in all_captions.items():\n",
    "        id = image_id\n",
    "        prompts.append({\n",
    "            \"id\": id,\n",
    "            \"prompt\": captions[prompt_type]\n",
    "        })\n",
    "\n",
    "    with open(f\"{PROMPT_FOLDER}prompts_blip_captions_{prompt_type}.json\", \"w\") as f:\n",
    "        json.dump(prompts, f, indent=4)"
   ]
  }
 ],
 "metadata": {
  "kernelspec": {
   "display_name": "Python 3",
   "language": "python",
   "name": "python3"
  },
  "language_info": {
   "codemirror_mode": {
    "name": "ipython",
    "version": 3
   },
   "file_extension": ".py",
   "mimetype": "text/x-python",
   "name": "python",
   "nbconvert_exporter": "python",
   "pygments_lexer": "ipython3",
   "version": "3.10.11"
  },
  "orig_nbformat": 4
 },
 "nbformat": 4,
 "nbformat_minor": 2
}
