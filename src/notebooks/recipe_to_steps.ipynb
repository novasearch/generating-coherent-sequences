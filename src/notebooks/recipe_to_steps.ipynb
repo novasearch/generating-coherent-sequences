{
 "cells": [
  {
   "cell_type": "code",
   "execution_count": 1,
   "metadata": {},
   "outputs": [],
   "source": [
    "import json\n",
    "\n",
    "RECIPE_FILE = \".json\"\n",
    "RESULT_FILE = \".json\"\n",
    "\n",
    "with open(RECIPE_FILE, \"r\") as f:\n",
    "    recipes = json.load(f)"
   ]
  },
  {
   "cell_type": "code",
   "execution_count": 2,
   "metadata": {},
   "outputs": [],
   "source": [
    "output = {}\n",
    "\n",
    "for recipe_id, _recipe in recipes.items():\n",
    "    recipe = _recipe[\"recipe\"]\n",
    "    new_recipe = {\"recipe_name\": recipe[\"name\"], \"steps\": []}\n",
    "\n",
    "    steps = []\n",
    "    for step in recipe['instructions']:\n",
    "        steps.append(step['stepText'])\n",
    "    \n",
    "    new_recipe['steps'] = steps\n",
    "    output[recipe_id] = new_recipe\n",
    "\n",
    "with open(RESULT_FILE, \"w\") as f:\n",
    "    json.dump(output, f, indent=4)"
   ]
  }
 ],
 "metadata": {
  "kernelspec": {
   "display_name": "Python 3",
   "language": "python",
   "name": "python3"
  },
  "language_info": {
   "codemirror_mode": {
    "name": "ipython",
    "version": 3
   },
   "file_extension": ".py",
   "mimetype": "text/x-python",
   "name": "python",
   "nbconvert_exporter": "python",
   "pygments_lexer": "ipython3",
   "version": "3.10.11"
  },
  "orig_nbformat": 4
 },
 "nbformat": 4,
 "nbformat_minor": 2
}
