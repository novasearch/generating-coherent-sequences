{
 "cells": [
  {
   "cell_type": "code",
   "execution_count": 1,
   "metadata": {},
   "outputs": [],
   "source": [
    "import json\n",
    "\n",
    "STEPS_FILE = \".json\"\n",
    "RESULT_FILE = \".json\""
   ]
  },
  {
   "cell_type": "code",
   "execution_count": 2,
   "metadata": {},
   "outputs": [],
   "source": [
    "with open(STEPS_FILE, \"r\") as f:\n",
    "    recipes = json.load(f)\n",
    "\n",
    "# Prompts[Prompt{\"id\": id, \"prompt\": step_text}]\n",
    "prompts = []\n",
    "\n",
    "for recipe_id, recipe in recipes.items():\n",
    "    for step_number, step in enumerate(recipe[\"steps\"]):\n",
    "        id = f\"{recipe_id}_{step_number+1}\"\n",
    "        prompt = step\n",
    "\n",
    "        prompts.append({\"id\": id, \"prompt\": prompt})\n",
    "\n",
    "with open(RESULT_FILE, \"w\") as f:\n",
    "    json.dump(prompts, f, indent=4)"
   ]
  }
 ],
 "metadata": {
  "kernelspec": {
   "display_name": "Python 3",
   "language": "python",
   "name": "python3"
  },
  "language_info": {
   "codemirror_mode": {
    "name": "ipython",
    "version": 3
   },
   "file_extension": ".py",
   "mimetype": "text/x-python",
   "name": "python",
   "nbconvert_exporter": "python",
   "pygments_lexer": "ipython3",
   "version": "3.10.11"
  },
  "orig_nbformat": 4
 },
 "nbformat": 4,
 "nbformat_minor": 2
}
