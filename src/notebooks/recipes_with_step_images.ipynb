{
 "cells": [
  {
   "cell_type": "code",
   "execution_count": 9,
   "metadata": {},
   "outputs": [],
   "source": [
    "import json\n",
    "\n",
    "INPUT = '.json'\n",
    "OUTPUT = '.json'\n",
    "\n",
    "with open(INPUT, 'r') as f:\n",
    "    data = json.load(f)\n"
   ]
  },
  {
   "cell_type": "code",
   "execution_count": 10,
   "metadata": {},
   "outputs": [],
   "source": [
    "recipes_with_image = {}\n",
    "\n",
    "for id, _recipe in data.items():\n",
    "    recipe = _recipe[\"recipe\"]\n",
    "\n",
    "    for step in recipe[\"instructions\"]:\n",
    "        if len(step[\"stepImages\"]) == 0:\n",
    "            break\n",
    "    else:\n",
    "        recipes_with_image[id] = _recipe"
   ]
  },
  {
   "cell_type": "code",
   "execution_count": 11,
   "metadata": {},
   "outputs": [
    {
     "name": "stdout",
     "output_type": "stream",
     "text": [
      "Original recipes: 47218\n",
      "Recipes with images: 2884\n"
     ]
    }
   ],
   "source": [
    "print(\"Original recipes:\", len(data))\n",
    "print(\"Recipes with images:\", len(recipes_with_image))"
   ]
  },
  {
   "cell_type": "code",
   "execution_count": 12,
   "metadata": {},
   "outputs": [],
   "source": [
    "with open(OUTPUT, 'w') as f:\n",
    "    json.dump(recipes_with_image, f, indent=4)"
   ]
  }
 ],
 "metadata": {
  "kernelspec": {
   "display_name": "Python 3",
   "language": "python",
   "name": "python3"
  },
  "language_info": {
   "codemirror_mode": {
    "name": "ipython",
    "version": 3
   },
   "file_extension": ".py",
   "mimetype": "text/x-python",
   "name": "python",
   "nbconvert_exporter": "python",
   "pygments_lexer": "ipython3",
   "version": "3.10.6"
  },
  "orig_nbformat": 4
 },
 "nbformat": 4,
 "nbformat_minor": 2
}
