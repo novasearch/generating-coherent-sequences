{
 "cells": [
  {
   "cell_type": "code",
   "execution_count": 2,
   "metadata": {},
   "outputs": [],
   "source": [
    "import json"
   ]
  },
  {
   "cell_type": "code",
   "execution_count": 2,
   "metadata": {},
   "outputs": [],
   "source": [
    "def curr_step(input_file, output_file):\n",
    "    data = json.load(open(input_file))\n",
    "    output = {}\n",
    "    for id, recipe in data.items():\n",
    "        for step in recipe[\"instructions\"]:\n",
    "            id = f'{recipe[\"doc_id\"]}_{step[\"step_id\"]}'\n",
    "            output[id] = step[\"step_text\"]\n",
    "    json.dump(output, open(output_file, 'w'), indent=4)"
   ]
  },
  {
   "attachments": {},
   "cell_type": "markdown",
   "metadata": {},
   "source": [
    "{\n",
    "        \"id\": \"0_1\",\n",
    "        \"prompt\": \"Frying pan heating at 350 degrees\"\n",
    "}"
   ]
  },
  {
   "cell_type": "code",
   "execution_count": 16,
   "metadata": {},
   "outputs": [],
   "source": [
    "def curr_step(input_file, output_file):\n",
    "    data = json.load(open(input_file))\n",
    "    output = []\n",
    "    for recipe_id, _recipe in data.items():\n",
    "        recipe = _recipe[\"recipe\"]\n",
    "        for step in recipe[\"instructions\"]:\n",
    "            id = f'{_recipe[\"recipeId\"]}_{step[\"stepNumber\"]}'\n",
    "            output.append( { \"id\": id, \"prompt\": step[\"stepText\"] })\n",
    "    json.dump(output, open(output_file, 'w'), indent=4)"
   ]
  },
  {
   "cell_type": "code",
   "execution_count": 17,
   "metadata": {},
   "outputs": [],
   "source": [
    "curr_step('.json', '.json')"
   ]
  },
  {
   "cell_type": "code",
   "execution_count": 37,
   "metadata": {},
   "outputs": [],
   "source": [
    "def prev_curr_step(input_file, output_file):\n",
    "    data = json.load(open(input_file))\n",
    "    output = {}\n",
    "    for id, recipe in data.items():\n",
    "        id = f'{recipe[\"doc_id\"]}_1'\n",
    "        output[id] = recipe[\"instructions\"][0][\"step_text\"]\n",
    "        for prev_step, curr_step in zip(recipe[\"instructions\"], recipe[\"instructions\"][1:]):\n",
    "            id = f'{recipe[\"doc_id\"]}_{curr_step[\"step_id\"]}'\n",
    "            output[id] = prev_step[\"step_text\"] + \" \" + curr_step[\"step_text\"]\n",
    "    json.dump(output, open(output_file, 'w'), indent=4)"
   ]
  },
  {
   "cell_type": "code",
   "execution_count": 38,
   "metadata": {},
   "outputs": [],
   "source": [
    "curr_step('../dataset/recipes_100.json', '../prompts/prompts_current_step.json')\n",
    "prev_curr_step('../dataset/recipes_100.json', '../prompts/prompts_prev_step.json')"
   ]
  },
  {
   "cell_type": "code",
   "execution_count": 2,
   "metadata": {},
   "outputs": [],
   "source": [
    "import json\n",
    "\n",
    "INPUT_FILE = \"steps_recipes_full_filter.json\"\n",
    "RESULT_FILE = \"prompts_recipes_full_filter_all_context.json\"\n",
    "\n",
    "def all_prev_steps(input_file, output_file):\n",
    "    recipes = json.load(open(input_file))\n",
    "    prompts = []\n",
    "    for recipe_id, recipe in recipes.items():\n",
    "        previous_steps = \"\"\n",
    "        for step_number, step in enumerate(recipe[\"steps\"]):\n",
    "            id = f\"{recipe_id}_{step_number+1}\"\n",
    "            previous_steps += f\"Step {step_number+1}: {step}\\n\"\n",
    "            prompt = previous_steps\n",
    "            prompts.append({\"id\": id, \"prompt\": prompt})\n",
    "\n",
    "    with open(output_file, \"w\") as f:\n",
    "        json.dump(prompts, f, indent=4)\n",
    "\n",
    "all_prev_steps(INPUT_FILE, RESULT_FILE)"
   ]
  }
 ],
 "metadata": {
  "kernelspec": {
   "display_name": "Python 3",
   "language": "python",
   "name": "python3"
  },
  "language_info": {
   "codemirror_mode": {
    "name": "ipython",
    "version": 3
   },
   "file_extension": ".py",
   "mimetype": "text/x-python",
   "name": "python",
   "nbconvert_exporter": "python",
   "pygments_lexer": "ipython3",
   "version": "3.10.11"
  },
  "orig_nbformat": 4
 },
 "nbformat": 4,
 "nbformat_minor": 2
}
