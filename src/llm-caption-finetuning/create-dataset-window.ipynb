{
 "cells": [
  {
   "attachments": {},
   "cell_type": "markdown",
   "metadata": {},
   "source": [
    "{ Instruction<sub>n-2</sub>, Instruction<sub>n-1</sub>, Instruction<sub>n</sub> ; ImageCaption<sub>n</sub> }"
   ]
  },
  {
   "cell_type": "code",
   "execution_count": 3,
   "metadata": {},
   "outputs": [
    {
     "ename": "TypeError",
     "evalue": "can only concatenate str (not \"int\") to str",
     "output_type": "error",
     "traceback": [
      "\u001b[0;31m---------------------------------------------------------------------------\u001b[0m",
      "\u001b[0;31mTypeError\u001b[0m                                 Traceback (most recent call last)",
      "Cell \u001b[0;32mIn[3], line 21\u001b[0m\n\u001b[1;32m     18\u001b[0m c \u001b[38;5;241m=\u001b[39m \u001b[38;5;241m0\u001b[39m\n\u001b[1;32m     20\u001b[0m \u001b[38;5;28;01mfor\u001b[39;00m c \u001b[38;5;129;01min\u001b[39;00m captions:\n\u001b[0;32m---> 21\u001b[0m     c\u001b[38;5;241m+\u001b[39m\u001b[38;5;241m=\u001b[39m\u001b[38;5;28mlen\u001b[39m(captions[c])\n\u001b[1;32m     23\u001b[0m \u001b[38;5;28mprint\u001b[39m(c)\n\u001b[1;32m     25\u001b[0m results \u001b[38;5;241m=\u001b[39m []\n",
      "\u001b[0;31mTypeError\u001b[0m: can only concatenate str (not \"int\") to str"
     ]
    }
   ],
   "source": [
    "import json\n",
    "from tqdm import tqdm\n",
    "\n",
    "RECIPES_PATH = ''\n",
    "CAPTIONS_FILE = ''\n",
    "CAPTION_TYPE = \"current_step\"\n",
    "\n",
    "RESULT_FILE = f'c0_{CAPTION_TYPE}_caption_dataset.json'\n",
    "\n",
    "WINDOW = 1\n",
    "\n",
    "with open(RECIPES_PATH, 'r') as f:\n",
    "    recipes = json.load(f)\n",
    "\n",
    "with open(CAPTIONS_FILE, 'r') as f:\n",
    "    captions = json.load(f)\n",
    "\n",
    "\n",
    "print(len(captions)*4)\n",
    "\n",
    "results = []\n",
    "\n",
    "recipe_items = recipes.items()\n",
    "\n",
    "key_errors = 0\n",
    "\n",
    "for recipe_id, _recipe in tqdm(recipe_items):\n",
    "    try:\n",
    "        recipe = _recipe['recipe']\n",
    "\n",
    "        context_arr = []\n",
    "        steps = recipe['instructions']\n",
    "        for i, step in enumerate(steps):\n",
    "            if len(context_arr) < WINDOW:\n",
    "                context_arr.append(f\"Step {step['stepNumber']}: {step['stepText']}\\n\")\n",
    "            else:\n",
    "                #context_arr[0] = f\"Step 1: {captions[f'{recipe_id}_{i-2+1}'][CAPTION_TYPE]}\\n\"\n",
    "                #context_arr[1] = f\"Step 2: {steps[i-1]['stepText']}\\n\"\n",
    "                #context_arr[2] = f\"Step 3: {step['stepText']}\\n\"\n",
    "                \n",
    "                #context_arr[0] = f\"Step 1: {captions[f'{recipe_id}_{i-1+1}'][CAPTION_TYPE]}\\n\"\n",
    "                #context_arr[1] = f\"Step 2: {step['stepText']}\\n\"\n",
    "\n",
    "                context_arr[0] = f\"Step 1: {step['stepText']}\\n\"\n",
    "\n",
    "            image_id = f\"{recipe_id}_{step['stepNumber']}\"\n",
    "            caption = captions[image_id][CAPTION_TYPE]\n",
    "\n",
    "            context = \"\".join(context_arr)\n",
    "\n",
    "            sample = {\n",
    "                \"image\": image_id,\n",
    "                \"steps\": context,\n",
    "                \"caption\": caption,\n",
    "                \"recipe_id\": recipe_id,\n",
    "                \"step\": i\n",
    "            }\n",
    "\n",
    "            results.append(sample) \n",
    "    except KeyError as ke:\n",
    "        # print(\"KeyError\", ke)\n",
    "        key_errors += 1\n",
    "        continue\n",
    "\n",
    "print(f\"Got {key_errors} key errors.\")\n",
    "\n",
    "with open(RESULT_FILE, \"w\") as f:\n",
    "    json.dump(results, f, indent=4)"
   ]
  },
  {
   "attachments": {},
   "cell_type": "markdown",
   "metadata": {},
   "source": [
    "Alpaca format"
   ]
  },
  {
   "cell_type": "code",
   "execution_count": 7,
   "metadata": {},
   "outputs": [
    {
     "name": "stdout",
     "output_type": "stream",
     "text": [
      "Dataset has 5562 examples.\n"
     ]
    }
   ],
   "source": [
    "import json\n",
    "import random\n",
    "from sklearn.model_selection import train_test_split\n",
    "\n",
    "CAPTION_TYPE = \"c0\"\n",
    "\n",
    "INPUT = f'.json'\n",
    "ALPACA_DATA = \".json\"\n",
    "\n",
    "INSTRUCTION = \"Give me the image caption for this recipe.\"\n",
    "\n",
    "dataset = []\n",
    "\n",
    "with open(INPUT, \"r\") as f:\n",
    "    input_dataset = json.load(f)\n",
    "\n",
    "for sample in input_dataset:\n",
    "    sample_alpaca = {\n",
    "        \"instruction\": INSTRUCTION,\n",
    "        \"input\": sample[\"steps\"],\n",
    "        \"output\": sample[\"caption\"],\n",
    "        \"recipe_id\": sample[\"recipe_id\"],\n",
    "        \"step\": sample[\"step\"]\n",
    "    }\n",
    "\n",
    "    dataset.append(sample_alpaca)\n",
    "\n",
    "random.seed(10)\n",
    "random.shuffle(dataset)\n",
    "\n",
    "train, eval = train_test_split(dataset, test_size=0.2)\n",
    "\n",
    "with open(ALPACA_DATA.format(CAPTION_TYPE, CAPTION_TYPE, \"train\"), \"w\") as f:\n",
    "    json.dump(train, f, indent=4)\n",
    "\n",
    "if eval:\n",
    "    with open(ALPACA_DATA.format(CAPTION_TYPE, CAPTION_TYPE, \"eval\"), \"w\") as f:\n",
    "        json.dump(eval, f, indent=4)\n",
    "\n",
    "print(f\"Dataset has {len(dataset)} examples.\")"
   ]
  },
  {
   "cell_type": "code",
   "execution_count": 10,
   "metadata": {},
   "outputs": [],
   "source": [
    "ALPACA_DATA_TRAIN = '.json'\n",
    "ALPACA_DATA_VAL = '.json'\n",
    "\n",
    "NUM_EXAMPLES=5000\n",
    "\n",
    "with open(ALPACA_DATA_TRAIN, \"w\") as f:\n",
    "    json.dump(dataset[:NUM_EXAMPLES-500], f, indent=4)\n",
    "\n",
    "with open(ALPACA_DATA_VAL, \"w\") as f:\n",
    "    json.dump(dataset[NUM_EXAMPLES-500:], f, indent=4)\n"
   ]
  }
 ],
 "metadata": {
  "kernelspec": {
   "display_name": "Python 3",
   "language": "python",
   "name": "python3"
  },
  "language_info": {
   "codemirror_mode": {
    "name": "ipython",
    "version": 3
   },
   "file_extension": ".py",
   "mimetype": "text/x-python",
   "name": "python",
   "nbconvert_exporter": "python",
   "pygments_lexer": "ipython3",
   "version": "3.10.11"
  },
  "orig_nbformat": 4
 },
 "nbformat": 4,
 "nbformat_minor": 2
}
